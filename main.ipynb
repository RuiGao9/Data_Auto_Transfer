{
 "cells": [
  {
   "cell_type": "code",
   "execution_count": null,
   "id": "ce53e9e0",
   "metadata": {
    "vscode": {
     "languageId": "plaintext"
    }
   },
   "outputs": [],
   "source": [
    "from auto_transfer.transfer import transfer_recent_files\n",
    "\n",
    "source_sd = \"E:/SD_CARD\"        # The mount point of the SD card\n",
    "destination = \"D:/DataBackup\"   # Your local storage\n",
    "recent_days = 7                 # Number of recent days of data to copy\n",
    "\n",
    "transfer_recent_files(source_sd, destination, recent_days)\n"
   ]
  }
 ],
 "metadata": {
  "language_info": {
   "name": "python"
  }
 },
 "nbformat": 4,
 "nbformat_minor": 5
}
