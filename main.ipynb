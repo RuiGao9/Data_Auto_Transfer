{
 "cells": [
  {
   "cell_type": "code",
   "execution_count": 1,
   "id": "95d2558a",
   "metadata": {},
   "outputs": [],
   "source": [
    "from transfer import transfer_recent_files"
   ]
  },
  {
   "cell_type": "code",
   "execution_count": 3,
   "id": "ce53e9e0",
   "metadata": {},
   "outputs": [
    {
     "name": "stdout",
     "output_type": "stream",
     "text": [
      "===================================\n",
      "Current Time:      2025-08-05 11:29:13\n",
      "Extracting files modified since: 2025-07-06 11:29:13\n",
      "===================================\n",
      "\n",
      "Finished transferring files!!!\n",
      "14 file(s) transferred to: D:\\1_Postdoc\\2_Projects\\202508_Data_Auto_Transfering\\Data_Auto_Transfer\n"
     ]
    }
   ],
   "source": [
    "source = r\"D:\\1_Postdoc\\2_Projects\\202508_Data_Auto_Transfering\\Data\"\n",
    "destination = r\"D:\\1_Postdoc\\2_Projects\\202508_Data_Auto_Transfering\\Data_Auto_Transfer\"\n",
    "days = 30\n",
    "\n",
    "transfer_recent_files(source, destination, days)"
   ]
  }
 ],
 "metadata": {
  "kernelspec": {
   "display_name": "MachineLearn",
   "language": "python",
   "name": "python3"
  },
  "language_info": {
   "codemirror_mode": {
    "name": "ipython",
    "version": 3
   },
   "file_extension": ".py",
   "mimetype": "text/x-python",
   "name": "python",
   "nbconvert_exporter": "python",
   "pygments_lexer": "ipython3",
   "version": "3.12.7"
  }
 },
 "nbformat": 4,
 "nbformat_minor": 5
}
